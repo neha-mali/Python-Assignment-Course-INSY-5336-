{
 "cells": [
  {
   "cell_type": "markdown",
   "metadata": {},
   "source": [
    "# NAME- NEHA PIRAJI MALI\n",
    "# ID- 1001733478"
   ]
  },
  {
   "cell_type": "markdown",
   "metadata": {},
   "source": [
    "### Question 1"
   ]
  },
  {
   "cell_type": "code",
   "execution_count": 1,
   "metadata": {},
   "outputs": [],
   "source": [
    "# The program is to take the 3 strings from the user.\n",
    "# Then the first 2 strings are concatenate and compared with 3rd string.\n",
    "# If the concatenated string and the 3rd string are equal then the program prints that they are equal.\n",
    "# Else the program should concatenate the two strings in reverse order and then compare it with the 3rd string.\n",
    "# If they are equal then print that they are also equal.\n",
    "# If the second condition also fails then it should print that they are not equal."
   ]
  },
  {
   "cell_type": "markdown",
   "metadata": {},
   "source": [
    "### LOGIC FOR THE QUESTION 1\n",
    "#### First three input are taken from the user which are stored in string1, string2 and string 3.Then the string1 \n",
    "#### and string2 are concatenated and compared with the 3rd condition. If the concatenated string and third string\n",
    "#### are equal then the program should print that the string are equal else the string are concatenated in reverse\n",
    "#### order as string2 and string1 and then the concatenated string is compared to 3rd string and if they are equal\n",
    "#### the program prints that they are also equal. If the second condition also fails then the program prints they are \n",
    "#### not equal."
   ]
  },
  {
   "cell_type": "code",
   "execution_count": 2,
   "metadata": {},
   "outputs": [],
   "source": [
    "### References used for question 1-\n",
    "#https://www.w3schools.com/python/gloss_python_string_concatenation.asp"
   ]
  },
  {
   "cell_type": "code",
   "execution_count": 4,
   "metadata": {},
   "outputs": [
    {
     "name": "stdout",
     "output_type": "stream",
     "text": [
      "Enter first string:32\n",
      "Enter second string:23\n",
      "Enter third string:2332\n",
      "they are also equal\n"
     ]
    }
   ],
   "source": [
    "# first input string is stored in string1\n",
    "string1=input(\"Enter first string:\")\n",
    "\n",
    "# second input string is stored in string2\n",
    "string2=input(\"Enter second string:\")\n",
    "\n",
    "# third input string is stored in string3\n",
    "string3=input(\"Enter third string:\")\n",
    "\n",
    "#string1 and string2 are concatenated and stored in concat variable\n",
    "concat=string1 + string2\n",
    "\n",
    "#string2 and string1 are concatenated and stored in concat_new variable\n",
    "concat_new=string2+string1\n",
    "\n",
    "#if loop will check if the concatenated string1 and string2 is equal to string3 \n",
    "if concat==string3:\n",
    "    #if the string are equal it will print that the they are equal\n",
    "    print(\"They are equal\")\n",
    "    \n",
    "#elif will check if the reverse string2 and string1 are equal to string3    \n",
    "elif concat!=string3:\n",
    "    #if the concatenated reverse string are equal then it will print they are also equal\n",
    "    \n",
    "    if concat_new==string3:\n",
    "        print(\"they are also equal\")\n",
    "        \n",
    "    #if the second condition also fails then the program will print they are not equal    \n",
    "    else:\n",
    "        print(\"they are not equal\")\n",
    "    \n",
    "    "
   ]
  },
  {
   "cell_type": "markdown",
   "metadata": {},
   "source": [
    "### Question 2"
   ]
  },
  {
   "cell_type": "code",
   "execution_count": 5,
   "metadata": {},
   "outputs": [],
   "source": [
    "#In this program the user is asked to enter the 3 or 4 integers\n",
    "#Then using if loop the input from user is checked if it is 3 integer or 4 integer\n",
    "#Based on the input the program will calculate average,maximum,minimum and the median of the entered integers."
   ]
  },
  {
   "cell_type": "markdown",
   "metadata": {},
   "source": [
    "### LOGIC FOR QUESTION2\n",
    "#### First the user is asked to enter the integers either 3 or 4 integers. After that based on user if use enters 3\n",
    "#### integers then first average is calculated by taking the sum of 3 integers and then dividing by 3, maximum of 3 \n",
    "#### numbers is calculated by using max() function, minimum of 3 numbers is calculated by using min() function\n",
    "#### and lastly median is calculated by sorting the numbers first in ascending order then the median for 3 numbers\n",
    "#### will be the number at index 1. Similiarly if the user enters 4 integers the average is calculated by taking the\n",
    "#### sum of 4 numbers and then dividing by 4, maximum and minimum are calculated by using min() and max(). The median\n",
    "#### of 4 numbers is calculated by sorting the numbers in ascending order and then taking the sum of number at index\n",
    "#### 1 and 2 and dividing by 2."
   ]
  },
  {
   "cell_type": "code",
   "execution_count": 6,
   "metadata": {},
   "outputs": [],
   "source": [
    "### References used for question 2-\n",
    "#https://www.geeksforgeeks.org/precision-handling-python/\n",
    "#https://stackoverflow.com/questions/43828998/how-to-pick-the-first-number-after-decimal-point-in-python-3-5"
   ]
  },
  {
   "cell_type": "code",
   "execution_count": 46,
   "metadata": {},
   "outputs": [
    {
     "name": "stdout",
     "output_type": "stream",
     "text": [
      "Enter the set of three or four integers:6\n",
      "Please enter only either 3 or 4 integers!\n"
     ]
    }
   ],
   "source": [
    "#importing math library \n",
    "import math\n",
    "try:\n",
    "    #The input from the user is stored in num varibale\n",
    "    num=int(input(\"Enter the set of three or four integers:\"))\n",
    "    \n",
    "\n",
    "        \n",
    "        #If the user enter value for num is 3 then it will go inside this loop\n",
    "    if num==3:\n",
    "            \n",
    "                #First enter input is stored in num1\n",
    "                num1=int(input(\"Enter the first number:\"))\n",
    "                \n",
    "                #Second enter input is stored in num2\n",
    "                num2=int(input(\"Enter the second number:\"))\n",
    "                \n",
    "                #Third enter input is stored in num3\n",
    "                num3=int(input(\"Enter the third number:\"))\n",
    "                \n",
    "                #Average of 3 numbers is calculated by taking sum of 3 numbers and dividing by 3\n",
    "                avg=(num1+num2+num3)/3\n",
    "        #       print(avg)\n",
    "                #From the whole average the digit after decimal is extracted to check if the digit is less than or greater\n",
    "                #than .5\n",
    "                \n",
    "                w=str(avg)[2:3]\n",
    "\n",
    "                if w==str(0):\n",
    "                   print(\"The average of the three numbers is:\",avg) \n",
    "                \n",
    "                #if the digit is less than .5 then the integer is round down to closest integer\n",
    "                elif w<str(5):\n",
    "                    print(\"The average of the 3 numbers if it is less than 0.5:\",math.floor(avg))\n",
    "                    \n",
    "                #if the digit is greater than or equal to 5 then the integer is round up to closet integer     \n",
    "                elif w>=str(5):\n",
    "                    print(\"The average of the 3 numbers if it is greater than or equal to 0.5:\",math.ceil(avg))\n",
    "\n",
    "\n",
    "                #maximum of 3 integers is calculated using max() function\n",
    "                maximum=max(num1,num2,num3)\n",
    "                print(\"The maximum of the three numbers is: \",maximum)\n",
    "\n",
    "                #minimum of 3 integers is calculated using min() function\n",
    "                minimum=min(num1,num2,num3)\n",
    "                print(\"The minimum of the three numbers is: \",minimum)\n",
    "\n",
    "                #median of 3 integers is calculated first by sorting the number and then extracting the integer at first index\n",
    "                med=[num1,num2,num3]\n",
    "                med.sort()\n",
    "                median=med[1]\n",
    "                print(\"The median of the three numbers is:\",median)\n",
    "\n",
    "\n",
    "\n",
    "\n",
    "\n",
    "        #if the numbers of integers enter from user is 4 \n",
    "    elif num==4:\n",
    "            \n",
    "                #first number is store in num1\n",
    "                num1=int(input(\"Enter the first number:\"))\n",
    "                \n",
    "                #second number is store in num2\n",
    "                num2=int(input(\"Enter the second number:\"))\n",
    "                \n",
    "                #third number is store in num3\n",
    "                num3=int(input(\"Enter the third number:\"))\n",
    "                \n",
    "                #fourth number is store in num4\n",
    "                num4=int(input(\"Enter the fourth number:\"))\n",
    "                \n",
    "                #average of 4 integers is calculated by taking sum of 4 integers and then dividing by 4\n",
    "                avg=(num1+num2+num3+num4)/4\n",
    "                print(avg)\n",
    "                \n",
    "                w=str(avg)[2:3]\n",
    "                #print the average of 4 numbers\n",
    "                \n",
    "                if w==str(0):\n",
    "                   print(\"The average of the four numbers is:\",avg) \n",
    "                \n",
    "                #if the digit is less than .5 then the integer is round down to closest integer\n",
    "                elif w<str(5):\n",
    "                    print(\"The average of the four numbers if it is less than 0.5:\",math.floor(avg))\n",
    "                    \n",
    "                #if the digit is greater than or equal to 5 then the integer is round up to closet integer     \n",
    "                elif w>=str(5):\n",
    "                    print(\"The average of the four numbers if it is greater than or equal to 0.5:\",math.ceil(avg))\n",
    "                    \n",
    "                #maximum of 4 integers is calculated using max()\n",
    "                maximum=max(num1,num2,num3,num4)\n",
    "                print(\"The maximum of the four numbers is:\",maximum)\n",
    "                \n",
    "                #minimum of 3 integers is calculate using min()\n",
    "                minimum=min(num1,num2,num3,num4)\n",
    "                print(\"The minimum of the four numbers is:\",minimum)\n",
    "                \n",
    "                #median of the number is calculated first by sorting the numbers and then rounding the number to closet integer\n",
    "                med=[num1,num2,num3,num4]\n",
    "                med.sort()\n",
    "                median=(med[1]+med[2])/2\n",
    "                median_round=round(median)\n",
    "                print(\"The median of the four numbers is:\",median_round)\n",
    "                \n",
    "    else:\n",
    "            print(\"Please enter either 3 or 4 integers!\")\n",
    "\n",
    "except ValueError:\n",
    "                    print(\"Please enter  either 3 or 4 integers!\")            \n",
    "\n"
   ]
  },
  {
   "cell_type": "code",
   "execution_count": 10,
   "metadata": {},
   "outputs": [],
   "source": [
    "### Question 3"
   ]
  },
  {
   "cell_type": "code",
   "execution_count": 11,
   "metadata": {},
   "outputs": [],
   "source": [
    "#The user is asked to enter the positive number\n",
    "#If the enter number is not positive then the user is once again asked to enter the positive number\n",
    "#If the enter number is greater than 1 and is not prime number then the program will print as composite number\n",
    "#If the entered number is greater than 1 and is divisible by 1 itself then the program will print as prime number\n",
    "#If the number is neither prime nor composite then it will print as nor composite nor prime number\n",
    "#I have use while loop in which the code will run until the while loop is true\n"
   ]
  },
  {
   "cell_type": "markdown",
   "metadata": {},
   "source": [
    "### LOGIC FOR QUESTION3\n",
    "#### First it will check if the number entered is positive or not and if number enter is not positive then it will\n",
    "#### throw the exception as number is not positive number. If the enter number from user is either 0 or 1 it will\n",
    "#### print that the number is neither prime nor composite. Else it will check for other positive number and it will\n",
    "#### check if the number % i==0 and if it is then that number is not prime but is composite number else it will print\n",
    "#### that the number is prime number"
   ]
  },
  {
   "cell_type": "code",
   "execution_count": 12,
   "metadata": {},
   "outputs": [],
   "source": [
    "### References used for question 3-\n",
    "#https://www.programiz.com/python-programming/examples/prime-number"
   ]
  },
  {
   "cell_type": "code",
   "execution_count": 13,
   "metadata": {},
   "outputs": [
    {
     "name": "stdout",
     "output_type": "stream",
     "text": [
      "Enter the number:2\n",
      "is prime number\n",
      "Enter the number:\n",
      "This is not a positive number!!\n"
     ]
    }
   ],
   "source": [
    "\n",
    "\n",
    "while(True):\n",
    "    #try except loop to throw the error that if the number is not positive\n",
    "    try:\n",
    "        #user is asked to enter the number\n",
    "        num=input(\"Enter the number:\")  \n",
    "        num=int(num) \n",
    "        \n",
    "         #if the entered number is less than 0 then it will throw the error\n",
    "        if num<0:\n",
    "            raise ValueError ( \"This is not a positive number!!\" )\n",
    "            \n",
    "        else:\n",
    "            #if number is 0 or 1 it will print that the number is neither prime nor composite\n",
    "            if num==0 or num==1:\n",
    "                print(\"The number is neither prime nor composite\")\n",
    "                \n",
    "              #if the number is greater than 1 then it will go inside the loop  \n",
    "            elif num>1:\n",
    "                for i in range(2,num):\n",
    "                    #if the number is divisble and the remainder is 0 then it will enter the loop\n",
    "                    if num%i==0:\n",
    "                        print(\"The number is not the prime and is composite\")\n",
    "                        break\n",
    "                else:\n",
    "                    print(\"is prime number\")\n",
    "    #except will throw the error if the number is not positive                \n",
    "    except ValueError :\n",
    "                            print(\"This is not a positive number!!\")\n",
    "                            break\n",
    "            \n",
    "        \n",
    "\n",
    "     \n",
    "        \n",
    "        "
   ]
  },
  {
   "cell_type": "markdown",
   "metadata": {},
   "source": [
    "### Question 4"
   ]
  },
  {
   "cell_type": "code",
   "execution_count": 14,
   "metadata": {},
   "outputs": [],
   "source": [
    "#In this program the SmartDivison() function will take two integers as argument\n",
    "#This function will return the result of the divison of the 2 integers and if the result type is integer it will \n",
    "#return the integer else if the number is floating type then the function will return the floating type integer\n",
    "#Also using try expect block the program will check for non-integers"
   ]
  },
  {
   "cell_type": "markdown",
   "metadata": {},
   "source": [
    "### logic for question4\n",
    "#### First the user is asked to enter two integer then the 2 integers are pass as argument to the function smartdivison\n",
    "#### If the remainder of the mod of 2 integer is 0 then it will go inside the if loop and in the out variable the\n",
    "#### output of divison is stored and after that using if loop will check if the type of the output is integer,then\n",
    "#### the return type will be integer and if the type of the output is float then the return type will be float."
   ]
  },
  {
   "cell_type": "code",
   "execution_count": 15,
   "metadata": {},
   "outputs": [],
   "source": [
    "### References used for question 4-\n",
    "#https://www.geeksforgeeks.org/division-operator-in-python/\n",
    "#https://stackoverflow.com/questions/2958684/python-division\n",
    "#https://www.w3schools.com/python/python_operators.asp"
   ]
  },
  {
   "cell_type": "code",
   "execution_count": 17,
   "metadata": {},
   "outputs": [],
   "source": [
    "def SmartDivision(int1, int2):\n",
    "    \n",
    "    #modulus will calculate the remainder of two integer\n",
    "    remainder=int1 % int2\n",
    "    \n",
    "    #if the remainder is 0 it will go inside the loop\n",
    "    if remainder == 0:\n",
    "        divison = int1/int2\n",
    "        divison=int(divison)\n",
    "        #this will return the result of the divison and the type of the output\n",
    "        return int(divison),type(divison)\n",
    "#         if type(divison)==int:\n",
    "           \n",
    "        \n",
    "    else:\n",
    "        \n",
    "        divison = int1/int2\n",
    "        #this will return the float result and float type \n",
    "        return divison,type(divison)\n",
    "   "
   ]
  },
  {
   "cell_type": "code",
   "execution_count": 18,
   "metadata": {},
   "outputs": [
    {
     "name": "stdout",
     "output_type": "stream",
     "text": [
      "Enter a first integer: 2\n",
      "Enter a second integer: 3\n",
      "The result of the division of 2 numbers is 0.6666666666666666 <class 'float'>\n"
     ]
    }
   ],
   "source": [
    "#main function call \n",
    "if __name__ == \"__main__\":\n",
    "    try:\n",
    "        #two integer are asked from user\n",
    "        int1 = int(input(\"Enter a first integer: \"))\n",
    "        int2 = int(input(\"Enter a second integer: \"))\n",
    "        \n",
    "        #when the function is called the result is stored in div and type_div\n",
    "        div,type_div=SmartDivision(int1,int2)\n",
    "        \n",
    "        print(\"The result of the division of 2 numbers is\",div , type_div )\n",
    "        \n",
    "    #this will throw the error if the number is not positive    \n",
    "    except ValueError:\n",
    "        print(\"Enter a positive integer\")\n",
    "        "
   ]
  },
  {
   "cell_type": "markdown",
   "metadata": {},
   "source": [
    "## Question 5"
   ]
  },
  {
   "cell_type": "code",
   "execution_count": 19,
   "metadata": {},
   "outputs": [],
   "source": [
    "# In this program the user is asked to enter the 2 corner coordinates for the rectangle which are only either float\n",
    "# or integer type. And after that the user is prompted to enter any two points to check if they are inside the rectangle\n",
    "# or not. Based on the output of the point the program will display the boolean result as true or false. And at the\n",
    "# end the the user will be aasked whether the user wants to continue with the program or not and if the user don't\n",
    "# want to continue then the program will stop"
   ]
  },
  {
   "cell_type": "markdown",
   "metadata": {},
   "source": [
    "### LOGIC FOR QUESTION5\n",
    "#### First the user is asked to enter the 4 points for the rectangle as coordinate and also asked to enter two points\n",
    "#### to check if those points lie inside the rectangle and those points are inside the rectangle the program will\n",
    "#### print true else it will print false.At the end of the program the user will be asked if he wants to continue\n",
    "#### with the program if not then the program will break."
   ]
  },
  {
   "cell_type": "code",
   "execution_count": 20,
   "metadata": {},
   "outputs": [],
   "source": [
    "### References used for question 5-\n",
    "#https://www.geeksforgeeks.org/check-if-a-point-lies-on-or-inside-a-rectangle-set-2/"
   ]
  },
  {
   "cell_type": "code",
   "execution_count": 21,
   "metadata": {},
   "outputs": [
    {
     "name": "stdout",
     "output_type": "stream",
     "text": [
      "Enter x1: 1\n",
      "Enter y1: 2\n",
      "Enter x2: 2\n",
      "Enter y2: 2\n",
      "Enter x: 3\n",
      "Enter y: 3\n",
      "False\n"
     ]
    },
    {
     "ename": "KeyboardInterrupt",
     "evalue": "Interrupted by user",
     "output_type": "error",
     "traceback": [
      "\u001b[0;31m---------------------------------------------------------------------------\u001b[0m",
      "\u001b[0;31mKeyboardInterrupt\u001b[0m                         Traceback (most recent call last)",
      "\u001b[0;32m<ipython-input-21-6b59c93dff10>\u001b[0m in \u001b[0;36m<module>\u001b[0;34m\u001b[0m\n\u001b[1;32m     22\u001b[0m             \u001b[0mprint\u001b[0m\u001b[0;34m(\u001b[0m\u001b[0;32mFalse\u001b[0m\u001b[0;34m)\u001b[0m\u001b[0;34m\u001b[0m\u001b[0;34m\u001b[0m\u001b[0m\n\u001b[1;32m     23\u001b[0m         \u001b[0;31m#user is asked whether he wants to continue or not\u001b[0m\u001b[0;34m\u001b[0m\u001b[0;34m\u001b[0m\u001b[0;34m\u001b[0m\u001b[0m\n\u001b[0;32m---> 24\u001b[0;31m         \u001b[0muser_input\u001b[0m \u001b[0;34m=\u001b[0m \u001b[0minput\u001b[0m\u001b[0;34m(\u001b[0m\u001b[0;34m\"Do you want to continue Y/N? \"\u001b[0m\u001b[0;34m)\u001b[0m\u001b[0;34m\u001b[0m\u001b[0;34m\u001b[0m\u001b[0m\n\u001b[0m\u001b[1;32m     25\u001b[0m \u001b[0;34m\u001b[0m\u001b[0m\n\u001b[1;32m     26\u001b[0m         \u001b[0mprint\u001b[0m\u001b[0;34m(\u001b[0m\u001b[0muser_input\u001b[0m\u001b[0;34m)\u001b[0m\u001b[0;34m\u001b[0m\u001b[0;34m\u001b[0m\u001b[0m\n",
      "\u001b[0;32m~/opt/anaconda3/lib/python3.8/site-packages/ipykernel/kernelbase.py\u001b[0m in \u001b[0;36mraw_input\u001b[0;34m(self, prompt)\u001b[0m\n\u001b[1;32m    858\u001b[0m                 \u001b[0;34m\"raw_input was called, but this frontend does not support input requests.\"\u001b[0m\u001b[0;34m\u001b[0m\u001b[0;34m\u001b[0m\u001b[0m\n\u001b[1;32m    859\u001b[0m             )\n\u001b[0;32m--> 860\u001b[0;31m         return self._input_request(str(prompt),\n\u001b[0m\u001b[1;32m    861\u001b[0m             \u001b[0mself\u001b[0m\u001b[0;34m.\u001b[0m\u001b[0m_parent_ident\u001b[0m\u001b[0;34m,\u001b[0m\u001b[0;34m\u001b[0m\u001b[0;34m\u001b[0m\u001b[0m\n\u001b[1;32m    862\u001b[0m             \u001b[0mself\u001b[0m\u001b[0;34m.\u001b[0m\u001b[0m_parent_header\u001b[0m\u001b[0;34m,\u001b[0m\u001b[0;34m\u001b[0m\u001b[0;34m\u001b[0m\u001b[0m\n",
      "\u001b[0;32m~/opt/anaconda3/lib/python3.8/site-packages/ipykernel/kernelbase.py\u001b[0m in \u001b[0;36m_input_request\u001b[0;34m(self, prompt, ident, parent, password)\u001b[0m\n\u001b[1;32m    902\u001b[0m             \u001b[0;32mexcept\u001b[0m \u001b[0mKeyboardInterrupt\u001b[0m\u001b[0;34m:\u001b[0m\u001b[0;34m\u001b[0m\u001b[0;34m\u001b[0m\u001b[0m\n\u001b[1;32m    903\u001b[0m                 \u001b[0;31m# re-raise KeyboardInterrupt, to truncate traceback\u001b[0m\u001b[0;34m\u001b[0m\u001b[0;34m\u001b[0m\u001b[0;34m\u001b[0m\u001b[0m\n\u001b[0;32m--> 904\u001b[0;31m                 \u001b[0;32mraise\u001b[0m \u001b[0mKeyboardInterrupt\u001b[0m\u001b[0;34m(\u001b[0m\u001b[0;34m\"Interrupted by user\"\u001b[0m\u001b[0;34m)\u001b[0m \u001b[0;32mfrom\u001b[0m \u001b[0;32mNone\u001b[0m\u001b[0;34m\u001b[0m\u001b[0;34m\u001b[0m\u001b[0m\n\u001b[0m\u001b[1;32m    905\u001b[0m             \u001b[0;32mexcept\u001b[0m \u001b[0mException\u001b[0m \u001b[0;32mas\u001b[0m \u001b[0me\u001b[0m\u001b[0;34m:\u001b[0m\u001b[0;34m\u001b[0m\u001b[0;34m\u001b[0m\u001b[0m\n\u001b[1;32m    906\u001b[0m                 \u001b[0mself\u001b[0m\u001b[0;34m.\u001b[0m\u001b[0mlog\u001b[0m\u001b[0;34m.\u001b[0m\u001b[0mwarning\u001b[0m\u001b[0;34m(\u001b[0m\u001b[0;34m\"Invalid Message:\"\u001b[0m\u001b[0;34m,\u001b[0m \u001b[0mexc_info\u001b[0m\u001b[0;34m=\u001b[0m\u001b[0;32mTrue\u001b[0m\u001b[0;34m)\u001b[0m\u001b[0;34m\u001b[0m\u001b[0;34m\u001b[0m\u001b[0m\n",
      "\u001b[0;31mKeyboardInterrupt\u001b[0m: Interrupted by user"
     ]
    }
   ],
   "source": [
    "\n",
    "while True:\n",
    "    \n",
    "    try:\n",
    "        #user is asked to enter the 4 coordinates for the rectangle\n",
    "        x1 = int(input(\"Enter x1: \"))\n",
    "        y1 = int(input(\"Enter y1: \"))\n",
    "        x2 = int(input(\"Enter x2: \"))\n",
    "        y2 = int(input(\"Enter y2: \"))\n",
    "        \n",
    "        #user is asked to enter any 2 values to check if they lie inside the rectangle\n",
    "        x = int(input(\"Enter x: \"))\n",
    "        y = int(input(\"Enter y: \"))\n",
    "        \n",
    "       \n",
    "        #this condition will check if the 2 enter number are inside the rectangle or not \n",
    "        if (x >= x1 and x <= x2) and (y >= y1 and y <= y2):\n",
    "            #if inside the rectangle return true\n",
    "            print(True)\n",
    "            \n",
    "        else:\n",
    "            #if not inside the rectangle return false\n",
    "            print(False)\n",
    "        #user is asked whether he wants to continue or not    \n",
    "        user_input = input(\"Do you want to continue Y/N? \")\n",
    "            \n",
    "        print(user_input)\n",
    "        #if the user says no then it will break the program    \n",
    "        if(user_input.upper() == \"N\"):\n",
    "                print(\"Goodbye!\")\n",
    "                break\n",
    "#                 \n",
    "                \n",
    "         #if the user says yes it will continue the program       \n",
    "        elif(user_input.upper() == \"Y\"):\n",
    "                print(\"Nice. Continue with the program\")\n",
    "                continue\n",
    "                    \n",
    "\n",
    "    #this will throw the error if the user enters something that is not a number             \n",
    "    except ValueError:\n",
    "        \n",
    "                print(\"Please enter the number\")\n",
    "\n"
   ]
  },
  {
   "cell_type": "code",
   "execution_count": null,
   "metadata": {},
   "outputs": [],
   "source": []
  }
 ],
 "metadata": {
  "kernelspec": {
   "display_name": "Python 3",
   "language": "python",
   "name": "python3"
  },
  "language_info": {
   "codemirror_mode": {
    "name": "ipython",
    "version": 3
   },
   "file_extension": ".py",
   "mimetype": "text/x-python",
   "name": "python",
   "nbconvert_exporter": "python",
   "pygments_lexer": "ipython3",
   "version": "3.8.5"
  }
 },
 "nbformat": 4,
 "nbformat_minor": 4
}
