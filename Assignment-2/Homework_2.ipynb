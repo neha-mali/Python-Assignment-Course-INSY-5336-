{
 "cells": [
  {
   "cell_type": "markdown",
   "metadata": {},
   "source": [
    "# ID-1001733478\n",
    "# Name-Neha Piraji Mali"
   ]
  },
  {
   "cell_type": "markdown",
   "metadata": {},
   "source": [
    "## QUESTION 1"
   ]
  },
  {
   "cell_type": "markdown",
   "metadata": {},
   "source": [
    "### Logic for Question 1\n",
    "#### User is asked to enter the sentence, after getting input the input is converted is lower case\n",
    "#### Then in input string it will find first appearance of the substring 'not..bad' word\n",
    "#### If 'not..bad' word is found then it will replace it with 'good' word\n",
    "#### if 'not..bad' is not found the program will print the output as 'not found'\n",
    "#### try-except block is used to chcek if the user input is valid or not"
   ]
  },
  {
   "cell_type": "code",
   "execution_count": null,
   "metadata": {},
   "outputs": [],
   "source": [
    "# positivitygenerator function check for the word not..bad in the input string and if it present it will replace\n",
    "# that word with good\n",
    "\n",
    "def positivitygenerator():\n",
    "    \n",
    "# try-catch block will handle the exceptions    \n",
    "    try:\n",
    "        \n",
    "#User will be asked to enter the sentence  \n",
    "\n",
    "        input1=input(\"Enter a sentence\")\n",
    "#This will convert the entered input to lower case  \n",
    "\n",
    "        input1_lower=input1.lower()\n",
    "#string1 will check if their is \"not\" word in the sentence     \n",
    "\n",
    "        string1=input1_lower.find(\"not\")\n",
    "#string2 will check if their is \"bad\" word in the sentence  \n",
    "\n",
    "        string2=input1_lower.find(\"bad\")\n",
    "\n",
    "        if string1 < string2:\n",
    "            \n",
    "#If the word \"not..bad\" is found it will replace it with good             \n",
    "            replace_text= input1_lower[:string1]+'good'+input1_lower[string2+3:]\n",
    "            \n",
    "            replace_text=replace_text.capitalize()\n",
    "            \n",
    "            return replace_text\n",
    "        \n",
    "        elif string1 < 0 or string2 < 0:\n",
    "            \n",
    "#If \"not..bad\" word is not found it will print this statement              \n",
    "            \n",
    "            print(\"not..bad not found in the text\")\n",
    "        \n",
    "    except BaseException as e:\n",
    "        \n",
    "        print(\"Enter a valid input\")\n",
    "\n"
   ]
  },
  {
   "cell_type": "code",
   "execution_count": null,
   "metadata": {},
   "outputs": [],
   "source": [
    "# fubction call to positivitygenerator\n",
    "positivitygenerator()"
   ]
  },
  {
   "cell_type": "markdown",
   "metadata": {},
   "source": [
    "## QUESTION 2"
   ]
  },
  {
   "cell_type": "markdown",
   "metadata": {},
   "source": [
    "### Logic for Question 2\n",
    "#### count_letter function will check the count of user input letter in the string\n",
    "#### user is asked to enter the text wherein the letter count has to be found\n",
    "#### then again user will be asked to enter single character and the whilw loop will run until the user doesn't enter\n",
    "#### the single letter\n",
    "#### after getting single letter it will check for how many times the single letter appears in the text\n",
    "#### for that I have use count which will return the count of the letter from the string"
   ]
  },
  {
   "cell_type": "code",
   "execution_count": null,
   "metadata": {},
   "outputs": [],
   "source": [
    "def count_single_letter():\n",
    "    try:\n",
    "        #Take sentence from user\n",
    "        input1 = input(\"Enter text: \")\n",
    "        #Converting the string in lowercase\n",
    "        input1 = input1.lower()\n",
    "        input2 = input(\"Enter single letter: \")\n",
    "        input2 = input2.lower()\n",
    "        #Chcek if user enters single character and anything apart from character then user is prompted to enter the single letter \n",
    "        #again\n",
    "        while len(input2)>1 or not input2.isalpha():\n",
    "            print(\"Please Enter a single letter\")\n",
    "            input2 = input(\"Enter letter: \")\n",
    "        #Initializing the counter to zero \n",
    "        count = 0\n",
    "       #Define special characters in list\n",
    "        character= [\";\",\":\",\"*\",\",\",\".\",\"!\"]\n",
    "       #IF input string contains special characters replace it.\n",
    "        for i in character :\n",
    "            input1 = input1.replace(i, '')\n",
    "        #Split the sentence at white spaces in words.\n",
    "        input1 = input1.split(\" \")\n",
    "        \n",
    "        for j in input1:\n",
    "            #Check if word has second last character as the letter entered by user\n",
    "            if j[-2] == input2:\n",
    "                #Increment the counter if letter found\n",
    "                count = count + 1\n",
    "        print(\"The letter \"+str(input2)+\" has appeared \"+str(count)+\" times as the second last letter of a word.\")\n",
    "    #Catch exceptions in try block.\n",
    "    except BaseException as e:\n",
    "        print(\"Enter a valid input\")\n",
    "    \n",
    "\n",
    "\n",
    "        \n"
   ]
  },
  {
   "cell_type": "code",
   "execution_count": null,
   "metadata": {},
   "outputs": [],
   "source": [
    "count_single_letter()"
   ]
  },
  {
   "cell_type": "markdown",
   "metadata": {},
   "source": [
    "## QUESTION 3"
   ]
  },
  {
   "cell_type": "markdown",
   "metadata": {},
   "source": [
    "### Logic for Question 3\n",
    "#### user is asked to enter the string which is stored in input1\n",
    "#### user is asked to enter which letter he wants to drop like odd or even\n",
    "#### if the user has selected as odd then it will remove odd position letter\n",
    "#### if the user has selected as even then it will remove even position letter\n",
    "#### if user enter the number then it will remove the character at that particular index"
   ]
  },
  {
   "cell_type": "code",
   "execution_count": null,
   "metadata": {},
   "outputs": [],
   "source": [
    "#remove_letter function will remove the characters according to users choice like even,odd\n",
    "def remove_letter():\n",
    "    try:\n",
    "#user is asked to enter the string which will be stored in input1         \n",
    "        input1 = input(\"Enter string: \")\n",
    "#user is asked to make choice between even,odd or number of characters to be romoved     \n",
    "        input2 = input(\"Enter choice to be removed: \")\n",
    "\n",
    "        removed_word = ''\n",
    "#if the entered choice is odd then it will remove the odd character from the string         \n",
    "        if input2 == 'odd':\n",
    "        \n",
    "            for i in range(1,len(input1)+1):\n",
    "                \n",
    "                if i%2 == 0:\n",
    "                    \n",
    "                    removed_word += input1[i-1]\n",
    "                    \n",
    "#this will print the word that will remain after removing the odd position letter                    \n",
    "            print(removed_word)\n",
    "            \n",
    "\n",
    "#if the entered choice is even it will remove the even character from the string         \n",
    "        elif input2 == 'even':\n",
    "        \n",
    "            for i in range(1,len(input1)+1):\n",
    "                \n",
    "                if i%2 != 0:\n",
    "                    \n",
    "                    removed_word += input1[i-1]\n",
    "#this will print the word that will remain after removing the even position letter                        \n",
    "            print(removed_word)\n",
    "       \n",
    "        else:\n",
    "#this will convert the input to int type and accordingly it will remove that many letter's from the string            \n",
    "            input2 = int(input2)\n",
    "#this will check if the entered number is greater than 2     \n",
    "            if input2 > 2:\n",
    "                for i in range(1,len(input1)+1):\n",
    "                \n",
    "                    if i%input2 != 0:\n",
    "                        \n",
    "                        removed_word += input1[i-1]\n",
    "                        \n",
    "                print(removed_word)\n",
    "                \n",
    "            else:\n",
    "                print(\"Please enter the number that is greater than 2\")\n",
    "#this will handle if their is any exception                 \n",
    "    except BaseException as e:\n",
    "        print(\"Please enter valid input\")"
   ]
  },
  {
   "cell_type": "code",
   "execution_count": null,
   "metadata": {},
   "outputs": [],
   "source": [
    "#remove_letter function will be called\n",
    "remove_letter()"
   ]
  },
  {
   "cell_type": "markdown",
   "metadata": {},
   "source": [
    "## QUESTION 4"
   ]
  },
  {
   "cell_type": "markdown",
   "metadata": {},
   "source": [
    "### Logic for Question 4\n",
    "#### input message is taken from the user and it is converted to lower case\n",
    "#### empty string is initialize for ouput\n",
    "#### using for loop it is chceked whether the letter from list is in alphabet list\n",
    "#### if the letter is their in the alphabet list then ciphertext is found by doing shifts and modulo\n",
    "#### output is stored at the index of new character\n",
    "#### if the letter is not in the list then it is just added to the result\n",
    "#### at the end the secret message is returned"
   ]
  },
  {
   "cell_type": "code",
   "execution_count": null,
   "metadata": {},
   "outputs": [],
   "source": [
    "def encrypt(Shift, Secret_message):\n",
    "    try:\n",
    "#input message is converted to lower case         \n",
    "        Secret_message = Secret_message.lower()\n",
    "    \n",
    "#empty string is initailize to store the output\n",
    "        output_message = \"\"    \n",
    "    \n",
    "#list of alphabets is stored in the variable \n",
    "        list_alphabet = \"abcdefghijklmnopqrstuvwxyz\"\n",
    "    \n",
    "\n",
    "#here it will check for the letter in the string and again it will check for the letter in list\n",
    "        for letter in Secret_message:\n",
    "           \n",
    "            if letter in list_alphabet: \n",
    "                \n",
    "#ciphertext is found using the formula\n",
    "\n",
    "                index_character = (list_alphabet.find(letter) + Shift) % len(list_alphabet)\n",
    "\n",
    "                output_message = output_message + list_alphabet[index_character]\n",
    "        \n",
    "            else:\n",
    "                \n",
    "#if letter is not found in list it is added to the result\n",
    "                output_message = output_message + letter\n",
    "        \n",
    "        return output_message\n",
    "    \n",
    "    except BaseExecption as e:\n",
    "        \n",
    "        print(\"invalid input\")\n",
    "\n",
    "\n",
    "Secret_message=input(\"Secret message:\")\n",
    "\n",
    "Shift=int(input(\"Shift : \"))\n",
    "\n",
    "encrypt(Shift, Secret_message)"
   ]
  },
  {
   "cell_type": "markdown",
   "metadata": {},
   "source": [
    "## QUESTION 5"
   ]
  },
  {
   "cell_type": "markdown",
   "metadata": {},
   "source": [
    "### Logic for Question 5\n",
    "#### user is asked to enter the number of elements\n",
    "#### list is created and entered 2 values are appended to the list_1\n",
    "#### one more list is created and other 2 values are appended to the list_2\n",
    "#### then different combinations of letter are concatenated"
   ]
  },
  {
   "cell_type": "code",
   "execution_count": null,
   "metadata": {},
   "outputs": [],
   "source": [
    "#try-catch block is used to check for any exception in the code\n",
    "\n",
    "try:\n",
    "#User is asked to enter the number of elements    \n",
    "    input1 = int(input((\"How many elements?\")))\n",
    "    \n",
    "  \n",
    "    \n",
    "#creating list      \n",
    "    list_1 = []\n",
    "    \n",
    "    for i in range(input1):\n",
    "#user is asked to enter 2 values         \n",
    "        input2 = input(\"Enter value 1 and value 2 for 1st list: \")\n",
    "#2 values will be appended to the list    \n",
    "        list_1.append(input2)\n",
    "    \n",
    "#creating another list     \n",
    "    list_2 = []\n",
    "    for j in range(input1):\n",
    "#user is asked to enter next 2 values         \n",
    "        input3 = input(\"Enter value 3 and value 4 for 2nd list: \")\n",
    "#this 2 values are appended to the list     \n",
    "        list_2.append(input3)    \n",
    "\n",
    "\n",
    "#this will print each list\n",
    "    print(\"List 1 is :\",list_1)\n",
    "    \n",
    "    print(\"List 2 is :\",list_2)\n",
    "    \n",
    "    print(\"Result is :\")\n",
    "    \n",
    "    for a in list_1:\n",
    "        \n",
    "        for b in list_2:\n",
    "#concatenate two input for different combinations of letter             \n",
    "            print(a+b)\n",
    "            \n",
    "# if exception occurs it will go in this block            \n",
    "except BaseException as e:\n",
    "    \n",
    "    print(\"please enter the number only\")"
   ]
  }
 ],
 "metadata": {
  "kernelspec": {
   "display_name": "Python 3",
   "language": "python",
   "name": "python3"
  },
  "language_info": {
   "codemirror_mode": {
    "name": "ipython",
    "version": 3
   },
   "file_extension": ".py",
   "mimetype": "text/x-python",
   "name": "python",
   "nbconvert_exporter": "python",
   "pygments_lexer": "ipython3",
   "version": "3.8.3"
  }
 },
 "nbformat": 4,
 "nbformat_minor": 4
}
